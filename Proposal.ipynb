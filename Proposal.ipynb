{
 "cells": [
  {
   "cell_type": "markdown",
   "id": "d205e3c0",
   "metadata": {},
   "source": [
    "# MANU 465 Project - Proposal\n",
    "\n",
    "**INSTRUCTIONS**\n",
    "\n",
    "Please upload a 1-2 page project proposal, clearly state motivation for choosing this project, the goal in this project (what you wish to achieve), a brief plan and steps to complete this project, and the potential ML algorithm you think, you may use. Suppose you are writing this proposal for a company that asks you to do a data analyses & ML project for them; so you need to show them clearly what is your approach and plan to successfully complete this project. (Only the project's Liaison needs to submit.)\n",
    "\n",
    "# Authors\n",
    "\n",
    "\n",
    "|       Name      | Student ID |\n",
    "|:---------------:|:----------:|\n",
    "|   Anant Goyal   |  46894325  |\n",
    "| Alberto Mussali |  50684182  |\n",
    "|    Musa Habib   |  25899808  |\n",
    "| Sadul Bombuwala |  76343292  |\n",
    "\n",
    "\n",
    "# Motivation\n",
    "To get wasted lmao 420 BLAZE\n",
    "\n",
    "\n",
    "# Objective and Goals"
   ]
  },
  {
   "cell_type": "markdown",
   "id": "a57cb3e9",
   "metadata": {},
   "source": [
    "# Theoretical Frameworks\n",
    "\n",
    "## Neural Oscillations\n",
    "\n",
    "This section will explore the scientific background regarding neural oscillations, more popularly referred to as brainwaves. Neural oscillations are the repetitive patterns of neural activity that are observed in the Central Nervous System. These oscillations can be characterized by their amplitude, phase, and frequency by performing time-frequency analysis on a recording of neural activity.\n",
    "\n",
    "There are several well-known bands of neural activity that can be measured via EEG. Each band is associated with different kinds of behaviors and pathologies. A comparison of all the EEG bands follows.\n",
    "\n",
    "|  Band | Frequency (Hz) |                                                  Location                                                  |                                                                                                               Normally                                                                                                               |                                                                                             Pathologically                                                                                            |\n",
    "|:-----:|:--------------:|:----------------------------------------------------------------------------------------------------------:|:------------------------------------------------------------------------------------------------------------------------------------------------------------------------------------------------------------------------------------:|:-----------------------------------------------------------------------------------------------------------------------------------------------------------------------------------------------------:|\n",
    "| Delta |       < 4      |                     frontally in adults, posteriorly in children; high-amplitude waves                     |                                                                       adult slow-wave sleep in babies Has been found during some continuous-attention tasks                                                                      |                                                    subcortical lesions diffuse lesions metabolic encephalopathy hydrocephalus deep midline lesions                                                    |\n",
    "| Theta |       4–7      |                               Found in locations not related to task at hand                               |    higher in young children drowsiness in adults and teens idling Associated with inhibition of elicited responses (has been found to spike in situations where a person is actively trying to repress a response or action).    |                                               focal subcortical lesions metabolic encephalopathy deep midline disorders some instances of hydrocephalus                                               |\n",
    "| Alpha |      8–15      | posterior regions of head, both sides, higher in amplitude on dominant side. Central sites (c3-c4) at rest |                            relaxed/reflecting closing the eyes Also associated with inhibition control, seemingly with the purpose of timing inhibitory activity in different locations across the brain.                            |                                                                                                  coma                                                                                                 |\n",
    "|  Beta |      16–31     |              both sides, symmetrical distribution, most evident frontally; low-amplitude waves             |                                                               range span: active calm → intense → stressed → mild obsessive active thinking, focus, high alert, anxious                                                              |                                                                                  benzodiazepines Dup15q syndrome                                                                                  |\n",
    "| Gamma |      > 32      |                                            Somatosensory cortex                                            | Displays during cross-modal sensory processing (perception that combines two different senses, such as sound and sight) Also is shown during short-term memory matching of recognized objects, sounds, or tactile sensations | A decrease in gamma-band activity may be associated with cognitive decline, especially when related to the theta band; however, this has not been proven for use as a clinical diagnostic measurement |\n",
    "|   Mu  |      8–12      |                                             Sensorimotor cortex                                            |                                                                                                  Shows rest-state motor neurons.                                                                                                 |                     Mu suppression could indicate that motor mirror neurons are working. Deficits in Mu suppression, and thus in mirror neurons, might play a role in autism.                     |\n",
    "\n",
    "Retrieved from: [Wikipedia: Electroencephalography](https://en.wikipedia.org/wiki/Electroencephalography).\n",
    "\n",
    "The frequency bands mentioned above are not standarized in literature, MindMonitor defines the frequencies as:\n",
    "\n",
    "|  Band | Frequency Range (Hz) |\n",
    "|:-----:|:-------------:|\n",
    "| Delta |       1-4     |\n",
    "| Theta |       4-8     |\n",
    "| Alpha |     7.5-13    |\n",
    "|  Beta |      13-30    |\n",
    "| Gamma |      30-44    |\n",
    "\n",
    "Retrieved from: [MindMonitor Documentation](https://mind-monitor.com/Technical_Manual.php#help_graph_absolute)\n",
    "\n",
    "These definitions will be used throughout this project."
   ]
  },
  {
   "cell_type": "markdown",
   "id": "3b480662",
   "metadata": {},
   "source": [
    "\n",
    "# Methods\n",
    "\n",
    "\n",
    "## Features\n",
    "\n",
    "MindMonitor (MM) allows us to record and extract the following features in a .csv format.\n",
    "\n",
    "|       **Features**       | **Description**                                                        | **Range / Units**                           |\n",
    "|:------------------------:|:-----------------------------------------------------------------------:|:-----------------------------------------------:|\n",
    "|         TimeStamp        | Date and Time                                                          | Year-Month-Day Hour:Minute:Second.Microsecond |\n",
    "| Delta_{TP9,AF7,AF8,TP10} | Delta brainwaves, for each of the four sensors                         | Bels                                          |\n",
    "| Theta_{TP9,AF7,AF8,TP10} | Theta brainwaves, for each of the four sensors                         | Bels                                          |\n",
    "| Alpha_{TP9,AF7,AF8,TP10} | Alpha brainwaves, for each of the four sensors                         | Bels                                          |\n",
    "|  Beta_{TP9,AF7,AF8,TP10} | Beta brainwaves, for each of the four sensors                          | Bels                                          |\n",
    "| Gamma_{TP9,AF7,AF8,TP10} | Gamma brainwaves, for each of the four sensors                         | Bels                                          |\n",
    "|  RAW_{TP9,AF7,AF8,TP10}  | RAW brainwaves, for each of the four sensors                           | 0.0 - 1682.815 uV                             |\n",
    "|         AUX_RIGHT        | RAW brainwaves for the auxiliary USB sensor (not available with MU-01) | 0.0 - 1682.815 uV                             |\n",
    "|   Accelerometer_{X,Y,Z}  | Gravity. X = tilt up/down, Y = tilt left/right, Z = vertical up/down   | g {-2:+2}                                     |\n",
    "|       Gyro_{X,Y,Z}       | Gyroscope motion over time (returns to zero)                           | degrees/second {-245:+245}                    |\n",
    "|        HeadBandOn        | Basic data quality indicator: if the headband is on the head           | 1=True, 0=False                               |\n",
    "|  HSI_{TP9,AF7,AF8,TP10}  | Data quality, for each of the four sensors (HSI=Horse Shoe Indicator)  | 1=Good, 2=Medium, 4=Bad                       |\n",
    "|          Battery         | Battery charge percentage                                              | %/100                                         |\n",
    "|         Elements         | Data markers such as Blink, Jaw_Clench, or numbered markers            | <various>                                     |\n",
    "\n",
    "Retreieved from: [MindMonitor Documentation](https://mind-monitor.com/FAQ.php#Compatibility)\n",
    "\n",
    "Additionally, more features can be engineered in order to provide the ML algorithms with more information. The relative band power, for example, is commonly used in literature. (see [this article](https://www.ncbi.nlm.nih.gov/pmc/articles/PMC4712412/), for example.)\n",
    "\n",
    "\n",
    ">The relative band powers are calculated by dividing the absolute linear-scale power in one band over the sum of the absolute linear-scale powers in all bands. The linear-scale band power can be calculated from the log-scale band power thusly: linear-scale band power = 10^ (log-scale band power).\n",
    "\n",
    "Retrieved from: [Muse Developer Documentation](https://web.archive.org/web/20181105231756/http://developer.choosemuse.com/tools/available-data#Relative_Band_Powers)\n",
    "\n",
    "In order to engineer these features, we employ a formula similar to the following, which calculates the relative band power of the alpha brainwaves.\n",
    "    \n",
    "<img src=\"https://latex.codecogs.com/svg.latex?\\alpha_r&space;=&space;\\frac{10^{\\alpha_a}}{10^{\\alpha_a}&space;&plus;&space;10^{\\beta_a}&space;&plus;&space;10^{\\delta}&space;&plus;&space;10^{\\gamma_a}&space;&plus;&space;10^{\\theta_a}}\" title=\"\\alpha_r = \\frac{10^{\\alpha_a}}{10^{\\alpha_a} + 10^{\\beta_a} + 10^{\\delta} + 10^{\\gamma_a} + 10^{\\theta_a}}\" />\n",
    "    \n",
    "Finally, the features: \"TimeStamp\", \"Battery\", and \"HeadBandOn\" will be discarded during processing given that they are irrelevant for the classification problem at hand. Similarly the target variable **ISTired?** will be added as a binary variable where {1=Tired, 0=NotTired}. $\\color{red}{\\text{CHECK THIS !!!}}$    \n"
   ]
  },
  {
   "cell_type": "markdown",
   "id": "b2975da7",
   "metadata": {},
   "source": [
    "## Models\n",
    "\n",
    "If the only features used in the model were the absolute and relative brainwaves, it is our intuition that classification models such as **SVC**, **Kernel SVC**, or **Logistic Regression** could be used to succesfully train the model. However, since data for the gyroscope, accelerometer, jaw clenching, and blinking is available. We believe that a deep-learning neural network (NN) such as **ANN** or **CNN** would leverage these features alongside the absolute and relative brainwaves to achieve better performance than other classification models."
   ]
  },
  {
   "cell_type": "markdown",
   "id": "988069e3",
   "metadata": {},
   "source": [
    "## Optimization\n",
    "The best performing models will be further optimized using GridSearchCV. GridSearchCV will explore different hyperparameter combinations, ensuring that these models achieve the best accuracy possible while using the same training data."
   ]
  },
  {
   "cell_type": "markdown",
   "id": "f33b4d78",
   "metadata": {},
   "source": [
    "## Evaluation\n",
    "All trained models will be evaluated using methods from Scikit-Learn. In particular, K-Fold Cross-Validation (CV) will be employed in order to test all models across several train/test splits and gain insight into their expected performance. \n",
    "This method allows us to gain insight not only into the model's expected accuravcy, but also the distribution of said accuracy. It is then possible to analyze the probabilities associated with a model performing better (or worse) than others."
   ]
  },
  {
   "cell_type": "markdown",
   "id": "2f65cc65",
   "metadata": {},
   "source": [
    "\n",
    "# Project Plan\n",
    "\n",
    "\n",
    "\n",
    "\n",
    "# More?\n"
   ]
  }
 ],
 "metadata": {
  "kernelspec": {
   "display_name": "Python 3 (ipykernel)",
   "language": "python",
   "name": "python3"
  },
  "language_info": {
   "codemirror_mode": {
    "name": "ipython",
    "version": 3
   },
   "file_extension": ".py",
   "mimetype": "text/x-python",
   "name": "python",
   "nbconvert_exporter": "python",
   "pygments_lexer": "ipython3",
   "version": "3.8.12"
  },
  "toc": {
   "base_numbering": 1,
   "nav_menu": {},
   "number_sections": true,
   "sideBar": true,
   "skip_h1_title": false,
   "title_cell": "Table of Contents",
   "title_sidebar": "Contents",
   "toc_cell": false,
   "toc_position": {},
   "toc_section_display": true,
   "toc_window_display": false
  }
 },
 "nbformat": 4,
 "nbformat_minor": 5
}
